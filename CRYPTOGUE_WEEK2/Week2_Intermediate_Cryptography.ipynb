{
 "cells": [
  {
   "cell_type": "markdown",
   "metadata": {},
   "source": [
    "### Week 2: Some intermediate topics in Cryptography"
   ]
  },
  {
   "cell_type": "code",
   "execution_count": 29,
   "metadata": {},
   "outputs": [],
   "source": [
    "# Libraries we shall use for this Notebook\n",
    "import hashlib\n",
    "from Crypto.Util.number import getPrime, inverse, bytes_to_long, long_to_bytes\n",
    "from Crypto.PublicKey import RSA\n",
    "from Crypto.Random.random import getrandbits\n",
    "import random\n",
    "import math\n",
    "from sympy import mod_inverse, integer_nthroot, randprime"
   ]
  },
  {
   "cell_type": "markdown",
   "metadata": {},
   "source": [
    "# 1. RSA: Rivest-Shamir-Adleman Encryption"
   ]
  },
  {
   "cell_type": "markdown",
   "metadata": {},
   "source": [
    "One of the most famous Encryption schemes, it is based on modular exponentiation(similar to Diffie-Hellman Key Exchange, which is covered later). Interestingly, Rivest came up with the one-way function while being drunk.\n",
    "\n",
    "**Trapdoor functions:** A trapdoor function is a function that is easy to compute in one direction, yet difficult to compute in the opposite direction (finding its inverse) without special information, called the \"trapdoor\". \n",
    "\n",
    "RSA uses trapdoor functions, generating a pair of public keys for encryption, and a pair of private keys for decryption.\n",
    "<p align=\"center\">\n",
    "  <img src=\"./images/trapdoor.png\" alt=\"Trapdoor function graphics\">\n",
    "</p>\n"
   ]
  },
  {
   "cell_type": "code",
   "execution_count": 30,
   "metadata": {},
   "outputs": [],
   "source": [
    "def generate_rsa_keys(bits=1024):\n",
    "    # generating 2 large primes of 512 bits, that is, around the order of 2^(255)\n",
    "    p = getPrime(bits // 2)\n",
    "    q = getPrime(bits // 2)\n",
    "    n = p * q\n",
    "    # n is round the order of 2^511\n",
    "    phi = (p - 1) * (q - 1) # taking Euler Totient function of n\n",
    "    e = 65537\n",
    "    d = inverse(e, phi) # also of the order of n\n",
    "    return (e, n), (d, n)\n",
    "\n",
    "public_key, private_key = generate_rsa_keys()"
   ]
  },
  {
   "cell_type": "code",
   "execution_count": 31,
   "metadata": {},
   "outputs": [],
   "source": [
    "def rsa_encrypt(message, public_key):\n",
    "    message = message.encode('utf-8')\n",
    "    message = bytes_to_long(message)\n",
    "    e, n = public_key\n",
    "    return pow(message, e, n)\n",
    "\n",
    "def rsa_decrypt(ciphertext, private_key):\n",
    "    d, n = private_key\n",
    "    decrypted = pow(ciphertext, d, n)\n",
    "    decrypted_bytes = long_to_bytes(decrypted)\n",
    "    decrypted_text = decrypted_bytes.decode('utf-8')\n",
    "    return decrypted_text"
   ]
  },
  {
   "cell_type": "markdown",
   "metadata": {},
   "source": [
    "<p align=\"center\">\n",
    "  <img src=\"./images/rsa.png\" alt=\"RSA mathematics\">\n",
    "</p>\n"
   ]
  },
  {
   "cell_type": "code",
   "execution_count": 32,
   "metadata": {},
   "outputs": [
    {
     "name": "stdout",
     "output_type": "stream",
     "text": [
      "Ciphertext:  49600318242056596817827640254314963284713568588744128794615889006887368240146956758249264706562644220030993750651261920968024871764112982418939117678464948261495247094347151806029037370578381682992193568391833673705290521247242760536216003466243775445940034029020243778412107955518216273261538753662312620950\n"
     ]
    }
   ],
   "source": [
    "message = 'Welcome to Cryptogue week 2'\n",
    "ciphertext = rsa_encrypt(message, public_key)\n",
    "print(\"Ciphertext: \", ciphertext)"
   ]
  },
  {
   "cell_type": "code",
   "execution_count": 33,
   "metadata": {},
   "outputs": [
    {
     "name": "stdout",
     "output_type": "stream",
     "text": [
      "Welcome to Cryptogue week 2\n"
     ]
    }
   ],
   "source": [
    "decrypted_message = rsa_decrypt(ciphertext, private_key)\n",
    "print(decrypted_message)"
   ]
  },
  {
   "cell_type": "markdown",
   "metadata": {},
   "source": [
    "# 2. Diffie-Hellman Key Exchange protocol\n",
    "The Diffie-Hellman key exchange protocol is a method for securely exchanging a secret key between two parties over an insecure channel. It's a cryptographic protocol that uses modular arithmetic, similar to RSA, and large random integers to create a shared secret key\n",
    "\n",
    "### The Protocol:\n",
    "1. Two parties, Alice and Bob, agree on a public number and a generator. \n",
    "2. Each party chooses a secret number, which is their private key. \n",
    "3. Each party calculates their public key using their private key and the public number. \n",
    "4. The parties exchange their public keys. \n",
    "5. Each party uses their private key and the other party's public key to calculate the shared secret key\n",
    "\n",
    "<p align=\"center\">\n",
    "  <img src=\"./images/Diffie-Hellman-key-exchange-protocol.png\" alt=\"RSA signature graphics\">\n",
    "</p>"
   ]
  },
  {
   "cell_type": "code",
   "execution_count": 34,
   "metadata": {},
   "outputs": [
    {
     "name": "stdout",
     "output_type": "stream",
     "text": [
      "Initial Shared info:\n",
      "prime =  13397151156844759225697512829654653794863564741439938017843327968891759893552256126733039332148584043957392975665763898325634202758837966024461696205198241 \n",
      "g =  2\n"
     ]
    }
   ],
   "source": [
    "#Initial Shared information\n",
    "prime = getPrime(512)\n",
    "g = 2\n",
    "print(\"Initial Shared info:\\nprime = \",prime,\"\\ng = \",g)"
   ]
  },
  {
   "cell_type": "code",
   "execution_count": 35,
   "metadata": {},
   "outputs": [
    {
     "name": "stdout",
     "output_type": "stream",
     "text": [
      "Alice private key:  1878706013835763815263629675234304289237950246994940642600512310807526473877013861488842636480090088493324615095226275954631241092641082124661464043883227\n",
      "Bob private key:    1007535039554261204701256427007328601762395211472302340956107504854507992207733283885979891012296361412795662595682629309903174211854433410076380242977936\n"
     ]
    }
   ],
   "source": [
    "# Their secret keys\n",
    "alice_private = random.randint(1, prime - 1)\n",
    "bob_private = random.randint(1, prime - 1)\n",
    "print(\"Alice private key: \",alice_private)\n",
    "print(\"Bob private key:   \",bob_private)"
   ]
  },
  {
   "cell_type": "code",
   "execution_count": 36,
   "metadata": {},
   "outputs": [
    {
     "name": "stdout",
     "output_type": "stream",
     "text": [
      "Alice public key:  12503873158186602385279615616260829174155232895799421080751312748921964832403268751419561677238607946284881386324270157682056787943422966923884748672273974\n",
      "Bob public key:    1978992444012451038610424433643475721717325648585078688696520180773426987743427490252780168715130771548675120165397060125500005210809167942678120123878956\n"
     ]
    }
   ],
   "source": [
    "# Public key\n",
    "alice_public = pow(g, alice_private, prime)\n",
    "bob_public = pow(g, bob_private, prime)\n",
    "print(\"Alice public key: \",alice_public)\n",
    "print(\"Bob public key:   \",bob_public)"
   ]
  },
  {
   "cell_type": "code",
   "execution_count": 37,
   "metadata": {},
   "outputs": [
    {
     "name": "stdout",
     "output_type": "stream",
     "text": [
      "Alice shared key:  13316241912182708859254942222376939053943191073013944132741406642787802992223706678193295996618928148069038650662389922565325477361983370197504720397294110\n",
      "Bob public key:    13316241912182708859254942222376939053943191073013944132741406642787802992223706678193295996618928148069038650662389922565325477361983370197504720397294110\n",
      "Shared secret successfully established\n"
     ]
    }
   ],
   "source": [
    "# shared info, after applying their keys on the public info\n",
    "shared_secret_alice = pow(bob_public, alice_private, prime)\n",
    "shared_secret_bob = pow(alice_public, bob_private, prime)\n",
    "\n",
    "print(\"Alice shared key: \",shared_secret_alice)\n",
    "print(\"Bob public key:   \",shared_secret_bob)\n",
    "\n",
    "if(shared_secret_alice == shared_secret_bob):\n",
    "    print(\"Shared secret successfully established\")\n",
    "else:\n",
    "    print(\"Shared secrets do not match\")"
   ]
  },
  {
   "cell_type": "markdown",
   "metadata": {},
   "source": [
    "# 3. Hashing Algorithms: MD5 & SHA256"
   ]
  },
  {
   "cell_type": "markdown",
   "metadata": {},
   "source": [
    "## 3.1 MD5 (Message Digest Algorithm 5):\n",
    "In Cryptography, the MD5 message-digest algorithm is a cryptographic hash function designed to convert a message into a 128-bit hash value.\n",
    "\n",
    "Due to its vulnerabilities including hash collision and preimage and second preimage attacks, which makes it possible to reverse-engineer digest value, it is replaced by more secure algorithms like SHA1, SHA256, etc. Even with its insecurity, MD5 is still the most commonly used message digest for non-cryptographic functions, such as used as a checksum to verify data integrity, compressing large files into smaller ones somewhat securely, etc.\n",
    "\n",
    "<p align=\"center\">\n",
    "  <img src=\"./images/md5.png\" alt=\"MD5 graphics\">\n",
    "</p>\n",
    "\n",
    "**Here, Process P is a non-linear function**"
   ]
  },
  {
   "cell_type": "code",
   "execution_count": 38,
   "metadata": {},
   "outputs": [
    {
     "name": "stdout",
     "output_type": "stream",
     "text": [
      "Original message: Lorem ipsum dolor sit amet, consectetur adipiscing elit. Phasellus tempus posuere eros, sed ultricies tellus venenatis in. Vestibulum ac velit risus. Praesent gravida tellus id nisi pretium condimentum. Sed viverra, dolor id sagittis accumsan, diam elit consectetur justo, sit amet vehicula ipsum libero non orci. Pellentesque dolor neque, venenatis non tortor in, aliquam scelerisque est. Praesent in ex nisl. Nulla vitae ullamcorper tellus. Mauris iaculis condimentum elit, quis dictum turpis dictum in. Aenean a risus leo. Proin quis nisi nec purus porttitor vulputate. Etiam rutrum finibus magna, a vestibulum libero condimentum in. Nullam laoreet, sem ut sodales pulvinar, nisi tellus varius lorem, in aliquam odio sapien et augue. Etiam cursus mauris dui.\n",
      "MD5 hash: e1eadb7b2e585a253f4d4dbacae712f2\n"
     ]
    }
   ],
   "source": [
    "message = ''\n",
    "with open('./texts/lorem_ipsum.txt', 'r') as file:\n",
    "    message = file.read()\n",
    "\n",
    "# message = \"Lorem ipsum dolor sit amet, ...\"\n",
    "\n",
    "def md5_hash_generator(text):\n",
    "    text = text.encode('utf-8')\n",
    "    md5_hash = hashlib.md5()\n",
    "    md5_hash.update(text)\n",
    "    hash_hex = md5_hash.hexdigest()\n",
    "    return hash_hex\n",
    "\n",
    "hash = md5_hash_generator(message)\n",
    "\n",
    "print(f\"Original message: {message}\")\n",
    "print(f\"MD5 hash: {hash}\")"
   ]
  },
  {
   "cell_type": "markdown",
   "metadata": {},
   "source": [
    "## 3.2 SHA-256: Secure Hashing Algorithm 256-bits\n",
    "It's a cryptographic hash function that produces a 256-bit (32-byte) hash value from any length of input data.The National Security Agency (NSA) and the National Institute of Standards and Technology (NIST) introduced SHA-256 in 2001.\n",
    "\n",
    "**Advantages:**\n",
    "- Being 256-bit long, it is resistant to brute force attacks by classical computers\n",
    "- It is also collision resistant due to its complexity and entropy\n",
    "  \n",
    "Quantum computers pose threat to this hashing algorithm due to the Shor's algorithm for factorization, but is still really difficult to break\n",
    "\n",
    "<p align=\"center\">\n",
    "  <img src=\"./images/sha-256.png\" alt=\"SHA-256 graphics\">\n",
    "</p>"
   ]
  },
  {
   "cell_type": "code",
   "execution_count": 39,
   "metadata": {},
   "outputs": [
    {
     "name": "stdout",
     "output_type": "stream",
     "text": [
      "Original message: Lorem ipsum dolor sit amet, consectetur adipiscing elit. Phasellus tempus posuere eros, sed ultricies tellus venenatis in. Vestibulum ac velit risus. Praesent gravida tellus id nisi pretium condimentum. Sed viverra, dolor id sagittis accumsan, diam elit consectetur justo, sit amet vehicula ipsum libero non orci. Pellentesque dolor neque, venenatis non tortor in, aliquam scelerisque est. Praesent in ex nisl. Nulla vitae ullamcorper tellus. Mauris iaculis condimentum elit, quis dictum turpis dictum in. Aenean a risus leo. Proin quis nisi nec purus porttitor vulputate. Etiam rutrum finibus magna, a vestibulum libero condimentum in. Nullam laoreet, sem ut sodales pulvinar, nisi tellus varius lorem, in aliquam odio sapien et augue. Etiam cursus mauris dui.\n",
      "SHA256 Hash: cd177b4d7287d1a9d6baa2de54cf0b7d41518d29ba3f80ff4c91154ef82119d4\n"
     ]
    }
   ],
   "source": [
    "with open('./texts/lorem_ipsum.txt', 'r') as file:\n",
    "    message = file.read()\n",
    "\n",
    "# message = \"Lorem ipsum dolor sit amet ...\"\n",
    "\n",
    "def sha256_hash_generator(text):\n",
    "    text = text.encode('utf-8')\n",
    "    hash_value = hashlib.sha256(text).hexdigest()\n",
    "    hash_value = str(hash_value)\n",
    "    return hash_value\n",
    "\n",
    "hash = sha256_hash_generator(message)\n",
    "\n",
    "print(f\"Original message: {message}\")\n",
    "print(f\"SHA256 Hash: {hash}\")"
   ]
  },
  {
   "cell_type": "markdown",
   "metadata": {},
   "source": [
    "For modern password hashing, often a salt is added at the end of each password that is unique to the user. A salt is just a small string, appended to the password to increase the complexity and the search space\n",
    "\n",
    "eg.: password = cryptogue_Week_2, salt = mnpcsec, final hash = sha256(cryptogue_Week_2mnpcsec)\n",
    "\n",
    "It's value is stored for each user in a database. There is an in-built implementation of salting in the SHA256 algorithm of cryptography library of python. Do check it out if interested."
   ]
  },
  {
   "cell_type": "markdown",
   "metadata": {},
   "source": [
    "# 4 RSA digital signature\n",
    "A mechanism to ensure the authenticity and integrity of a message. The sender signs the message using their private key, and the recipient verifies the signature using the sender's public key.\n",
    "<p align=\"center\">\n",
    "  <img src=\"./images/rsa-signature.png\" alt=\"RSA signature graphics\">\n",
    "</p>"
   ]
  },
  {
   "cell_type": "code",
   "execution_count": 40,
   "metadata": {},
   "outputs": [
    {
     "name": "stdout",
     "output_type": "stream",
     "text": [
      "Agreement hash:  1d0042cb200f99b5b227d1ef780ca08dcd23e60538c910367ce4115e1be55030\n",
      "Signed agreement:  74345758863302907022875705660238333393199378906500105182743069208857021038499880002606603812648900051564738755760303695711855566867428925039363786229147956437545544242180769429654636883060123983742040466784638864618991138847617888585504507666163251478487049230278245912102315597341118086564223781427252963515\n"
     ]
    }
   ],
   "source": [
    "private_key_for_alice, public_key_for_alice = generate_rsa_keys() \n",
    "# message = bytes_to_long(b'I, Alice, own this property')\n",
    "\n",
    "with open(\"./texts/property_transfer_agreement.txt\", \"r\") as file:\n",
    "    agreement_text = file.read()\n",
    "\n",
    "agreement_text_hash = sha256_hash_generator(agreement_text)\n",
    "signed_agreement = rsa_encrypt(agreement_text_hash,private_key_for_alice)\n",
    "print(\"Agreement hash: \", agreement_text_hash)\n",
    "print(\"Signed agreement: \", signed_agreement)"
   ]
  },
  {
   "cell_type": "markdown",
   "metadata": {},
   "source": [
    "We first took the whole agreement into a string and then digested it using the sha256 algorithm to generate a hash for us, we then use RSA to encrypt this hash with the private keys of Alice.\n",
    "\n",
    "This is now available and public, and can be decrypted with the public keys of Alice and verified by comparing the decrypted message with the hash of the agreement."
   ]
  },
  {
   "cell_type": "code",
   "execution_count": 41,
   "metadata": {},
   "outputs": [
    {
     "name": "stdout",
     "output_type": "stream",
     "text": [
      "Decrypted signature hash:  1d0042cb200f99b5b227d1ef780ca08dcd23e60538c910367ce4115e1be55030\n",
      "Agreement hash:            1d0042cb200f99b5b227d1ef780ca08dcd23e60538c910367ce4115e1be55030\n",
      "The agreement is signed by Alice\n"
     ]
    }
   ],
   "source": [
    "def validate_signature(agreement_text, signed_agreement, public_key):\n",
    "    agreement_hash = sha256_hash_generator(agreement_text)\n",
    "    decrypted_agreement_hash = rsa_decrypt(signed_agreement, public_key)\n",
    "    print(\"Decrypted signature hash: \", decrypted_agreement_hash)\n",
    "    print(\"Agreement hash:           \", agreement_hash)\n",
    "    if decrypted_agreement_hash == agreement_hash:\n",
    "        print(f\"The agreement is signed by Alice\")\n",
    "    else:\n",
    "        print(f\"The agreement is not signed by Alice\")\n",
    "\n",
    "validate_signature(agreement_text, signed_agreement, public_key_for_alice)"
   ]
  },
  {
   "cell_type": "markdown",
   "metadata": {},
   "source": [
    "# 5 Hastad's Broadcast attack: Vulnerability in RSA\n",
    "Hastad's Broadcast Attack is a cryptographic attack that exploits weaknesses in RSA encryption when the same message is encrypted with small public exponents and sent to multiple recipients.\n",
    "\n",
    "**Attack Conditions:**\n",
    "- Small Public Exponents: The attack is most effective when the public exponents $(e_1, e_2, ..., e_k)$ are small, typically 3.\n",
    "- Multiple Recipients: The attacker needs to intercept the encrypted messages $(c_1, c_2, ..., c_k)$ sent to multiple recipients.\n",
    "\n",
    "**Example Scenario:**\n",
    "- Imagine a sender wants to encrypt a single message, m, and send it to multiple recipients.\n",
    "- Each recipient has their own RSA public key: $(N_1, e_1), (N_2, e_2), ..., (N_k, e_k)$, where N is the modulus  and e is the public exponent.\n",
    "- The sender encrypts the message m using each recipient's public key:\n",
    "- 1. $ c_1 = m^{e_1} \\; mod \\; N_1 $\n",
    "  2. $ c_2 = m^{e_2} \\; mod \\; N_2 $\n",
    "  3. ...\n",
    "  4. $ c_k = m^{e_k} \\; mod \\; N_k $\n",
    "\n",
    "<p align=\"center\">\n",
    "  <img src=\"./images/hastad.png\" alt=\"hastad graphics\">\n",
    "</p>"
   ]
  },
  {
   "cell_type": "code",
   "execution_count": 42,
   "metadata": {},
   "outputs": [],
   "source": [
    "from sympy import mod_inverse, integer_nthroot\n",
    "\n",
    "def hastads_broadcast_attack(ciphertexts, moduli):\n",
    "    # Check input consistency\n",
    "    assert len(ciphertexts) == len(moduli), \"Number of ciphertexts and moduli must match\"\n",
    "\n",
    "    # Compute the product of all moduli (N = N_1 * N_2 * ... * N_n)\n",
    "    N = 1\n",
    "    for modulus in moduli:\n",
    "        N *= modulus\n",
    "\n",
    "    # Compute each partial product N_i\n",
    "    partial_products = [N // modulus for modulus in moduli]\n",
    "\n",
    "    # Compute the sum of (C_i * N_i * (N_i^-1 mod N_i))\n",
    "    result = 0\n",
    "    for i in range(len(moduli)):\n",
    "        N_i = partial_products[i]\n",
    "        C_i = ciphertexts[i]\n",
    "        modulus = moduli[i]\n",
    "        inverse = mod_inverse(N_i, modulus)\n",
    "        result += C_i * N_i * inverse\n",
    "\n",
    "    result = result % N\n",
    "\n",
    "    plaintext, exact = integer_nthroot(result, 3)\n",
    "    if not exact:\n",
    "        raise ValueError(\"Failed to extract an exact cube root\")\n",
    "\n",
    "    return int(plaintext)"
   ]
  },
  {
   "cell_type": "code",
   "execution_count": 43,
   "metadata": {},
   "outputs": [
    {
     "name": "stdout",
     "output_type": "stream",
     "text": [
      "Original message: small exponent RSA\n",
      "Recovered message: small exponent RSA\n"
     ]
    }
   ],
   "source": [
    "e = 3  # Public exponent\n",
    "message = \"small exponent RSA\"\n",
    "message_to_num = bytes_to_long(message.encode('utf-8'))\n",
    "\n",
    "moduli = [randprime(10**50, 10**51) for _ in range(3)]\n",
    "\n",
    "ciphertexts = [pow(message_to_num, e, modulus) for modulus in moduli]\n",
    "\n",
    "recovered_number = hastads_broadcast_attack(ciphertexts, moduli)\n",
    "recovered_message = long_to_bytes(recovered_number).decode('utf-8')\n",
    "\n",
    "print(f\"Original message: {message}\")\n",
    "print(f\"Recovered message: {recovered_message}\")"
   ]
  },
  {
   "cell_type": "markdown",
   "metadata": {},
   "source": [
    "# 6. Parity Oracle Attack\n",
    "The RSA parity oracle attack is a cryptographic attack that exploits a weakness in RSA by using an oracle to reveal the least-significant bit of a ciphertext's decryption\n",
    "\n",
    "An oracle is an abstracted information source that can be used to give attackers a go/no go indication.\n",
    "In this attack, the oracle reveals the least-significant bit of a ciphertext's decryption.\n",
    "This information can be used to help attackers determine how close they are to their goals.\n",
    "\n",
    "\n",
    "\n",
    "<p align=\"center\">\n",
    "  <img src=\"./images/oracle.png\" alt=\"oracle graphics\">\n",
    "</p>\n",
    "<p align=\"center\">\n",
    "  <img src=\"./images/oracle2.png\" alt=\"oracle graphics\">\n",
    "</p>"
   ]
  },
  {
   "cell_type": "markdown",
   "metadata": {},
   "source": [
    "### Algorithm of Oracle parity attack\n",
    "\n",
    "1. RSA ciphertexts are just numbers. You can do trivial math on them. You can for instance multiply a ciphertext by the RSA-encryption of another number; the corresponding plaintext will be the product of those two numbers.\n",
    "2. If you double a ciphertext (multiply it by (2**e)%n), the resulting plaintext will (obviously) be either even or odd.\n",
    "3. If the plaintext after doubling is even, doubling the plaintext didn't wrap the modulus --- the modulus is a prime number. That means the plaintext is less than half the modulus.\n",
    "4. ou can repeatedly apply this heuristic, once per bit of the message, checking your oracle function each time.\n",
    "5. Your decryption function starts with bounds for the plaintext of [0,n].\n",
    "6. Each iteration of the decryption cuts the bounds in half; either the upper bound is reduced by half, or the lower bound is.\n",
    "\n",
    "After $log_2(n)$ iterations, you have the decryption of the message.\n",
    "\n",
    "Print the upper bound of the message as a string at each iteration; you'll see the message"
   ]
  },
  {
   "cell_type": "code",
   "execution_count": 44,
   "metadata": {},
   "outputs": [],
   "source": [
    "def parity_oracle_attack(ciphertext, public_key, modulus, oracle):\n",
    "    lower_bound = 0\n",
    "    upper_bound = modulus\n",
    "\n",
    "    for iteration in range(modulus.bit_length() + 1):  # Add an extra iteration for safety\n",
    "        # Multiply the ciphertext by 2^e mod N\n",
    "        ciphertext = (ciphertext * pow(2, public_key, modulus)) % modulus\n",
    "\n",
    "        # Query the oracle\n",
    "        is_even = oracle(ciphertext)\n",
    "        print(f\"Iteration {iteration}: Lower={lower_bound}, Upper={upper_bound}, Oracle Response={is_even}\")\n",
    "\n",
    "        if is_even:\n",
    "            # If even, plaintext is in the lower half\n",
    "            upper_bound = (lower_bound + upper_bound) // 2\n",
    "        else:\n",
    "            # If odd, plaintext is in the upper half\n",
    "            lower_bound = (lower_bound + upper_bound) // 2\n",
    "\n",
    "        # Stop if the bounds converge\n",
    "        if upper_bound - lower_bound <= 1:\n",
    "            # print(\"Bounds converged.\")\n",
    "            break\n",
    "\n",
    "    if upper_bound - lower_bound > 1:\n",
    "        print(\"Warning: Bounds did not converge completely.\")\n",
    "    return lower_bound\n"
   ]
  },
  {
   "cell_type": "code",
   "execution_count": 45,
   "metadata": {},
   "outputs": [
    {
     "name": "stdout",
     "output_type": "stream",
     "text": [
      "Iteration 0: Lower=0, Upper=124179223463188498449252700056769306422303028589267286596054751504996342937501269070265128796531290801, Oracle Response=True\n",
      "Iteration 1: Lower=0, Upper=62089611731594249224626350028384653211151514294633643298027375752498171468750634535132564398265645400, Oracle Response=True\n",
      "Iteration 2: Lower=0, Upper=31044805865797124612313175014192326605575757147316821649013687876249085734375317267566282199132822700, Oracle Response=True\n",
      "Iteration 3: Lower=0, Upper=15522402932898562306156587507096163302787878573658410824506843938124542867187658633783141099566411350, Oracle Response=True\n",
      "Iteration 4: Lower=0, Upper=7761201466449281153078293753548081651393939286829205412253421969062271433593829316891570549783205675, Oracle Response=True\n",
      "Iteration 5: Lower=0, Upper=3880600733224640576539146876774040825696969643414602706126710984531135716796914658445785274891602837, Oracle Response=True\n",
      "Iteration 6: Lower=0, Upper=1940300366612320288269573438387020412848484821707301353063355492265567858398457329222892637445801418, Oracle Response=True\n",
      "Iteration 7: Lower=0, Upper=970150183306160144134786719193510206424242410853650676531677746132783929199228664611446318722900709, Oracle Response=True\n",
      "Iteration 8: Lower=0, Upper=485075091653080072067393359596755103212121205426825338265838873066391964599614332305723159361450354, Oracle Response=True\n",
      "Iteration 9: Lower=0, Upper=242537545826540036033696679798377551606060602713412669132919436533195982299807166152861579680725177, Oracle Response=True\n",
      "Iteration 10: Lower=0, Upper=121268772913270018016848339899188775803030301356706334566459718266597991149903583076430789840362588, Oracle Response=True\n",
      "Iteration 11: Lower=0, Upper=60634386456635009008424169949594387901515150678353167283229859133298995574951791538215394920181294, Oracle Response=True\n",
      "Iteration 12: Lower=0, Upper=30317193228317504504212084974797193950757575339176583641614929566649497787475895769107697460090647, Oracle Response=True\n",
      "Iteration 13: Lower=0, Upper=15158596614158752252106042487398596975378787669588291820807464783324748893737947884553848730045323, Oracle Response=True\n",
      "Iteration 14: Lower=0, Upper=7579298307079376126053021243699298487689393834794145910403732391662374446868973942276924365022661, Oracle Response=True\n",
      "Iteration 15: Lower=0, Upper=3789649153539688063026510621849649243844696917397072955201866195831187223434486971138462182511330, Oracle Response=True\n",
      "Iteration 16: Lower=0, Upper=1894824576769844031513255310924824621922348458698536477600933097915593611717243485569231091255665, Oracle Response=True\n",
      "Iteration 17: Lower=0, Upper=947412288384922015756627655462412310961174229349268238800466548957796805858621742784615545627832, Oracle Response=True\n",
      "Iteration 18: Lower=0, Upper=473706144192461007878313827731206155480587114674634119400233274478898402929310871392307772813916, Oracle Response=True\n",
      "Iteration 19: Lower=0, Upper=236853072096230503939156913865603077740293557337317059700116637239449201464655435696153886406958, Oracle Response=True\n",
      "Iteration 20: Lower=0, Upper=118426536048115251969578456932801538870146778668658529850058318619724600732327717848076943203479, Oracle Response=True\n",
      "Iteration 21: Lower=0, Upper=59213268024057625984789228466400769435073389334329264925029159309862300366163858924038471601739, Oracle Response=True\n",
      "Iteration 22: Lower=0, Upper=29606634012028812992394614233200384717536694667164632462514579654931150183081929462019235800869, Oracle Response=True\n",
      "Iteration 23: Lower=0, Upper=14803317006014406496197307116600192358768347333582316231257289827465575091540964731009617900434, Oracle Response=True\n",
      "Iteration 24: Lower=0, Upper=7401658503007203248098653558300096179384173666791158115628644913732787545770482365504808950217, Oracle Response=True\n",
      "Iteration 25: Lower=0, Upper=3700829251503601624049326779150048089692086833395579057814322456866393772885241182752404475108, Oracle Response=True\n",
      "Iteration 26: Lower=0, Upper=1850414625751800812024663389575024044846043416697789528907161228433196886442620591376202237554, Oracle Response=True\n",
      "Iteration 27: Lower=0, Upper=925207312875900406012331694787512022423021708348894764453580614216598443221310295688101118777, Oracle Response=True\n",
      "Iteration 28: Lower=0, Upper=462603656437950203006165847393756011211510854174447382226790307108299221610655147844050559388, Oracle Response=True\n",
      "Iteration 29: Lower=0, Upper=231301828218975101503082923696878005605755427087223691113395153554149610805327573922025279694, Oracle Response=True\n",
      "Iteration 30: Lower=0, Upper=115650914109487550751541461848439002802877713543611845556697576777074805402663786961012639847, Oracle Response=True\n",
      "Iteration 31: Lower=0, Upper=57825457054743775375770730924219501401438856771805922778348788388537402701331893480506319923, Oracle Response=True\n",
      "Iteration 32: Lower=0, Upper=28912728527371887687885365462109750700719428385902961389174394194268701350665946740253159961, Oracle Response=True\n",
      "Iteration 33: Lower=0, Upper=14456364263685943843942682731054875350359714192951480694587197097134350675332973370126579980, Oracle Response=True\n",
      "Iteration 34: Lower=0, Upper=7228182131842971921971341365527437675179857096475740347293598548567175337666486685063289990, Oracle Response=True\n",
      "Iteration 35: Lower=0, Upper=3614091065921485960985670682763718837589928548237870173646799274283587668833243342531644995, Oracle Response=True\n",
      "Iteration 36: Lower=0, Upper=1807045532960742980492835341381859418794964274118935086823399637141793834416621671265822497, Oracle Response=True\n",
      "Iteration 37: Lower=0, Upper=903522766480371490246417670690929709397482137059467543411699818570896917208310835632911248, Oracle Response=True\n",
      "Iteration 38: Lower=0, Upper=451761383240185745123208835345464854698741068529733771705849909285448458604155417816455624, Oracle Response=True\n",
      "Iteration 39: Lower=0, Upper=225880691620092872561604417672732427349370534264866885852924954642724229302077708908227812, Oracle Response=True\n",
      "Iteration 40: Lower=0, Upper=112940345810046436280802208836366213674685267132433442926462477321362114651038854454113906, Oracle Response=True\n",
      "Iteration 41: Lower=0, Upper=56470172905023218140401104418183106837342633566216721463231238660681057325519427227056953, Oracle Response=True\n",
      "Iteration 42: Lower=0, Upper=28235086452511609070200552209091553418671316783108360731615619330340528662759713613528476, Oracle Response=True\n",
      "Iteration 43: Lower=0, Upper=14117543226255804535100276104545776709335658391554180365807809665170264331379856806764238, Oracle Response=True\n",
      "Iteration 44: Lower=0, Upper=7058771613127902267550138052272888354667829195777090182903904832585132165689928403382119, Oracle Response=True\n",
      "Iteration 45: Lower=0, Upper=3529385806563951133775069026136444177333914597888545091451952416292566082844964201691059, Oracle Response=True\n",
      "Iteration 46: Lower=0, Upper=1764692903281975566887534513068222088666957298944272545725976208146283041422482100845529, Oracle Response=True\n",
      "Iteration 47: Lower=0, Upper=882346451640987783443767256534111044333478649472136272862988104073141520711241050422764, Oracle Response=True\n",
      "Iteration 48: Lower=0, Upper=441173225820493891721883628267055522166739324736068136431494052036570760355620525211382, Oracle Response=True\n",
      "Iteration 49: Lower=0, Upper=220586612910246945860941814133527761083369662368034068215747026018285380177810262605691, Oracle Response=True\n",
      "Iteration 50: Lower=0, Upper=110293306455123472930470907066763880541684831184017034107873513009142690088905131302845, Oracle Response=True\n",
      "Iteration 51: Lower=0, Upper=55146653227561736465235453533381940270842415592008517053936756504571345044452565651422, Oracle Response=True\n",
      "Iteration 52: Lower=0, Upper=27573326613780868232617726766690970135421207796004258526968378252285672522226282825711, Oracle Response=True\n",
      "Iteration 53: Lower=0, Upper=13786663306890434116308863383345485067710603898002129263484189126142836261113141412855, Oracle Response=True\n",
      "Iteration 54: Lower=0, Upper=6893331653445217058154431691672742533855301949001064631742094563071418130556570706427, Oracle Response=True\n",
      "Iteration 55: Lower=0, Upper=3446665826722608529077215845836371266927650974500532315871047281535709065278285353213, Oracle Response=True\n",
      "Iteration 56: Lower=0, Upper=1723332913361304264538607922918185633463825487250266157935523640767854532639142676606, Oracle Response=True\n",
      "Iteration 57: Lower=0, Upper=861666456680652132269303961459092816731912743625133078967761820383927266319571338303, Oracle Response=True\n",
      "Iteration 58: Lower=0, Upper=430833228340326066134651980729546408365956371812566539483880910191963633159785669151, Oracle Response=True\n",
      "Iteration 59: Lower=0, Upper=215416614170163033067325990364773204182978185906283269741940455095981816579892834575, Oracle Response=True\n",
      "Iteration 60: Lower=0, Upper=107708307085081516533662995182386602091489092953141634870970227547990908289946417287, Oracle Response=True\n",
      "Iteration 61: Lower=0, Upper=53854153542540758266831497591193301045744546476570817435485113773995454144973208643, Oracle Response=True\n",
      "Iteration 62: Lower=0, Upper=26927076771270379133415748795596650522872273238285408717742556886997727072486604321, Oracle Response=True\n",
      "Iteration 63: Lower=0, Upper=13463538385635189566707874397798325261436136619142704358871278443498863536243302160, Oracle Response=True\n",
      "Iteration 64: Lower=0, Upper=6731769192817594783353937198899162630718068309571352179435639221749431768121651080, Oracle Response=True\n",
      "Iteration 65: Lower=0, Upper=3365884596408797391676968599449581315359034154785676089717819610874715884060825540, Oracle Response=True\n",
      "Iteration 66: Lower=0, Upper=1682942298204398695838484299724790657679517077392838044858909805437357942030412770, Oracle Response=True\n",
      "Iteration 67: Lower=0, Upper=841471149102199347919242149862395328839758538696419022429454902718678971015206385, Oracle Response=True\n",
      "Iteration 68: Lower=0, Upper=420735574551099673959621074931197664419879269348209511214727451359339485507603192, Oracle Response=True\n",
      "Iteration 69: Lower=0, Upper=210367787275549836979810537465598832209939634674104755607363725679669742753801596, Oracle Response=True\n",
      "Iteration 70: Lower=0, Upper=105183893637774918489905268732799416104969817337052377803681862839834871376900798, Oracle Response=True\n",
      "Iteration 71: Lower=0, Upper=52591946818887459244952634366399708052484908668526188901840931419917435688450399, Oracle Response=True\n",
      "Iteration 72: Lower=0, Upper=26295973409443729622476317183199854026242454334263094450920465709958717844225199, Oracle Response=True\n",
      "Iteration 73: Lower=0, Upper=13147986704721864811238158591599927013121227167131547225460232854979358922112599, Oracle Response=True\n",
      "Iteration 74: Lower=0, Upper=6573993352360932405619079295799963506560613583565773612730116427489679461056299, Oracle Response=True\n",
      "Iteration 75: Lower=0, Upper=3286996676180466202809539647899981753280306791782886806365058213744839730528149, Oracle Response=True\n",
      "Iteration 76: Lower=0, Upper=1643498338090233101404769823949990876640153395891443403182529106872419865264074, Oracle Response=True\n",
      "Iteration 77: Lower=0, Upper=821749169045116550702384911974995438320076697945721701591264553436209932632037, Oracle Response=True\n",
      "Iteration 78: Lower=0, Upper=410874584522558275351192455987497719160038348972860850795632276718104966316018, Oracle Response=True\n",
      "Iteration 79: Lower=0, Upper=205437292261279137675596227993748859580019174486430425397816138359052483158009, Oracle Response=True\n",
      "Iteration 80: Lower=0, Upper=102718646130639568837798113996874429790009587243215212698908069179526241579004, Oracle Response=True\n",
      "Iteration 81: Lower=0, Upper=51359323065319784418899056998437214895004793621607606349454034589763120789502, Oracle Response=True\n",
      "Iteration 82: Lower=0, Upper=25679661532659892209449528499218607447502396810803803174727017294881560394751, Oracle Response=True\n",
      "Iteration 83: Lower=0, Upper=12839830766329946104724764249609303723751198405401901587363508647440780197375, Oracle Response=True\n",
      "Iteration 84: Lower=0, Upper=6419915383164973052362382124804651861875599202700950793681754323720390098687, Oracle Response=True\n",
      "Iteration 85: Lower=0, Upper=3209957691582486526181191062402325930937799601350475396840877161860195049343, Oracle Response=True\n",
      "Iteration 86: Lower=0, Upper=1604978845791243263090595531201162965468899800675237698420438580930097524671, Oracle Response=True\n",
      "Iteration 87: Lower=0, Upper=802489422895621631545297765600581482734449900337618849210219290465048762335, Oracle Response=True\n",
      "Iteration 88: Lower=0, Upper=401244711447810815772648882800290741367224950168809424605109645232524381167, Oracle Response=True\n",
      "Iteration 89: Lower=0, Upper=200622355723905407886324441400145370683612475084404712302554822616262190583, Oracle Response=True\n",
      "Iteration 90: Lower=0, Upper=100311177861952703943162220700072685341806237542202356151277411308131095291, Oracle Response=True\n",
      "Iteration 91: Lower=0, Upper=50155588930976351971581110350036342670903118771101178075638705654065547645, Oracle Response=True\n",
      "Iteration 92: Lower=0, Upper=25077794465488175985790555175018171335451559385550589037819352827032773822, Oracle Response=True\n",
      "Iteration 93: Lower=0, Upper=12538897232744087992895277587509085667725779692775294518909676413516386911, Oracle Response=True\n",
      "Iteration 94: Lower=0, Upper=6269448616372043996447638793754542833862889846387647259454838206758193455, Oracle Response=True\n",
      "Iteration 95: Lower=0, Upper=3134724308186021998223819396877271416931444923193823629727419103379096727, Oracle Response=True\n",
      "Iteration 96: Lower=0, Upper=1567362154093010999111909698438635708465722461596911814863709551689548363, Oracle Response=True\n",
      "Iteration 97: Lower=0, Upper=783681077046505499555954849219317854232861230798455907431854775844774181, Oracle Response=True\n",
      "Iteration 98: Lower=0, Upper=391840538523252749777977424609658927116430615399227953715927387922387090, Oracle Response=True\n",
      "Iteration 99: Lower=0, Upper=195920269261626374888988712304829463558215307699613976857963693961193545, Oracle Response=True\n",
      "Iteration 100: Lower=0, Upper=97960134630813187444494356152414731779107653849806988428981846980596772, Oracle Response=True\n",
      "Iteration 101: Lower=0, Upper=48980067315406593722247178076207365889553826924903494214490923490298386, Oracle Response=True\n",
      "Iteration 102: Lower=0, Upper=24490033657703296861123589038103682944776913462451747107245461745149193, Oracle Response=True\n",
      "Iteration 103: Lower=0, Upper=12245016828851648430561794519051841472388456731225873553622730872574596, Oracle Response=True\n",
      "Iteration 104: Lower=0, Upper=6122508414425824215280897259525920736194228365612936776811365436287298, Oracle Response=True\n",
      "Iteration 105: Lower=0, Upper=3061254207212912107640448629762960368097114182806468388405682718143649, Oracle Response=False\n",
      "Iteration 106: Lower=1530627103606456053820224314881480184048557091403234194202841359071824, Upper=3061254207212912107640448629762960368097114182806468388405682718143649, Oracle Response=True\n",
      "Iteration 107: Lower=1530627103606456053820224314881480184048557091403234194202841359071824, Upper=2295940655409684080730336472322220276072835637104851291304262038607736, Oracle Response=False\n",
      "Iteration 108: Lower=1913283879508070067275280393601850230060696364254042742753551698839780, Upper=2295940655409684080730336472322220276072835637104851291304262038607736, Oracle Response=False\n",
      "Iteration 109: Lower=2104612267458877074002808432962035253066766000679447017028906868723758, Upper=2295940655409684080730336472322220276072835637104851291304262038607736, Oracle Response=True\n",
      "Iteration 110: Lower=2104612267458877074002808432962035253066766000679447017028906868723758, Upper=2200276461434280577366572452642127764569800818892149154166584453665747, Oracle Response=True\n",
      "Iteration 111: Lower=2104612267458877074002808432962035253066766000679447017028906868723758, Upper=2152444364446578825684690442802081508818283409785798085597745661194752, Oracle Response=False\n",
      "Iteration 112: Lower=2128528315952727949843749437882058380942524705232622551313326264959255, Upper=2152444364446578825684690442802081508818283409785798085597745661194752, Oracle Response=True\n",
      "Iteration 113: Lower=2128528315952727949843749437882058380942524705232622551313326264959255, Upper=2140486340199653387764219940342069944880404057509210318455535963077003, Oracle Response=False\n",
      "Iteration 114: Lower=2134507328076190668803984689112064162911464381370916434884431114018129, Upper=2140486340199653387764219940342069944880404057509210318455535963077003, Oracle Response=False\n",
      "Iteration 115: Lower=2137496834137922028284102314727067053895934219440063376669983538547566, Upper=2140486340199653387764219940342069944880404057509210318455535963077003, Oracle Response=True\n",
      "Iteration 116: Lower=2137496834137922028284102314727067053895934219440063376669983538547566, Upper=2138991587168787708024161127534568499388169138474636847562759750812284, Oracle Response=False\n",
      "Iteration 117: Lower=2138244210653354868154131721130817776642051678957350112116371644679925, Upper=2138991587168787708024161127534568499388169138474636847562759750812284, Oracle Response=True\n",
      "Iteration 118: Lower=2138244210653354868154131721130817776642051678957350112116371644679925, Upper=2138617898911071288089146424332693138015110408715993479839565697746104, Oracle Response=True\n",
      "Iteration 119: Lower=2138244210653354868154131721130817776642051678957350112116371644679925, Upper=2138431054782213078121639072731755457328581043836671795977968671213014, Oracle Response=True\n",
      "Iteration 120: Lower=2138244210653354868154131721130817776642051678957350112116371644679925, Upper=2138337632717783973137885396931286616985316361397010954047170157946469, Oracle Response=False\n",
      "Iteration 121: Lower=2138290921685569420646008559031052196813684020177180533081770901313197, Upper=2138337632717783973137885396931286616985316361397010954047170157946469, Oracle Response=True\n",
      "Iteration 122: Lower=2138290921685569420646008559031052196813684020177180533081770901313197, Upper=2138314277201676696891946977981169406899500190787095743564470529629833, Oracle Response=True\n",
      "Iteration 123: Lower=2138290921685569420646008559031052196813684020177180533081770901313197, Upper=2138302599443623058768977768506110801856592105482138138323120715471515, Oracle Response=True\n",
      "Iteration 124: Lower=2138290921685569420646008559031052196813684020177180533081770901313197, Upper=2138296760564596239707493163768581499335138062829659335702445808392356, Oracle Response=False\n",
      "Iteration 125: Lower=2138293841125082830176750861399816848074411041503419934392108354852776, Upper=2138296760564596239707493163768581499335138062829659335702445808392356, Oracle Response=False\n",
      "Iteration 126: Lower=2138295300844839534942122012584199173704774552166539635047277081622566, Upper=2138296760564596239707493163768581499335138062829659335702445808392356, Oracle Response=True\n",
      "Iteration 127: Lower=2138295300844839534942122012584199173704774552166539635047277081622566, Upper=2138296030704717887324807588176390336519956307498099485374861445007461, Oracle Response=True\n",
      "Iteration 128: Lower=2138295300844839534942122012584199173704774552166539635047277081622566, Upper=2138295665774778711133464800380294755112365429832319560211069263315013, Oracle Response=True\n",
      "Iteration 129: Lower=2138295300844839534942122012584199173704774552166539635047277081622566, Upper=2138295483309809123037793406482246964408569990999429597629173172468789, Oracle Response=False\n",
      "Iteration 130: Lower=2138295392077324328989957709533223069056672271582984616338225127045677, Upper=2138295483309809123037793406482246964408569990999429597629173172468789, Oracle Response=False\n",
      "Iteration 131: Lower=2138295437693566726013875558007735016732621131291207106983699149757233, Upper=2138295483309809123037793406482246964408569990999429597629173172468789, Oracle Response=True\n",
      "Iteration 132: Lower=2138295437693566726013875558007735016732621131291207106983699149757233, Upper=2138295460501687924525834482244990990570595561145318352306436161113011, Oracle Response=True\n",
      "Iteration 133: Lower=2138295437693566726013875558007735016732621131291207106983699149757233, Upper=2138295449097627325269855020126363003651608346218262729645067655435122, Oracle Response=False\n",
      "Iteration 134: Lower=2138295443395597025641865289067049010192114738754734918314383402596177, Upper=2138295449097627325269855020126363003651608346218262729645067655435122, Oracle Response=True\n",
      "Iteration 135: Lower=2138295443395597025641865289067049010192114738754734918314383402596177, Upper=2138295446246612175455860154596706006921861542486498823979725529015649, Oracle Response=True\n",
      "Iteration 136: Lower=2138295443395597025641865289067049010192114738754734918314383402596177, Upper=2138295444821104600548862721831877508556988140620616871147054465805913, Oracle Response=True\n",
      "Iteration 137: Lower=2138295443395597025641865289067049010192114738754734918314383402596177, Upper=2138295444108350813095364005449463259374551439687675894730718934201045, Oracle Response=True\n",
      "Iteration 138: Lower=2138295443395597025641865289067049010192114738754734918314383402596177, Upper=2138295443751973919368614647258256134783333089221205406522551168398611, Oracle Response=True\n",
      "Iteration 139: Lower=2138295443395597025641865289067049010192114738754734918314383402596177, Upper=2138295443573785472505239968162652572487723913987970162418467285497394, Oracle Response=True\n",
      "Iteration 140: Lower=2138295443395597025641865289067049010192114738754734918314383402596177, Upper=2138295443484691249073552628614850791339919326371352540366425344046785, Oracle Response=True\n",
      "Iteration 141: Lower=2138295443395597025641865289067049010192114738754734918314383402596177, Upper=2138295443440144137357708958840949900766017032563043729340404373321481, Oracle Response=False\n",
      "Iteration 142: Lower=2138295443417870581499787123953999455479065885658889323827393887958829, Upper=2138295443440144137357708958840949900766017032563043729340404373321481, Oracle Response=True\n",
      "Iteration 143: Lower=2138295443417870581499787123953999455479065885658889323827393887958829, Upper=2138295443429007359428748041397474678122541459110966526583899130640155, Oracle Response=False\n",
      "Iteration 144: Lower=2138295443423438970464267582675737066800803672384927925205646509299492, Upper=2138295443429007359428748041397474678122541459110966526583899130640155, Oracle Response=True\n",
      "Iteration 145: Lower=2138295443423438970464267582675737066800803672384927925205646509299492, Upper=2138295443426223164946507812036605872461672565747947225894772819969823, Oracle Response=False\n",
      "Iteration 146: Lower=2138295443424831067705387697356171469631238119066437575550209664634657, Upper=2138295443426223164946507812036605872461672565747947225894772819969823, Oracle Response=False\n",
      "Iteration 147: Lower=2138295443425527116325947754696388671046455342407192400722491242302240, Upper=2138295443426223164946507812036605872461672565747947225894772819969823, Oracle Response=True\n",
      "Iteration 148: Lower=2138295443425527116325947754696388671046455342407192400722491242302240, Upper=2138295443425875140636227783366497271754063954077569813308632031136031, Oracle Response=True\n",
      "Iteration 149: Lower=2138295443425527116325947754696388671046455342407192400722491242302240, Upper=2138295443425701128481087769031442971400259648242381107015561636719135, Oracle Response=False\n",
      "Iteration 150: Lower=2138295443425614122403517761863915821223357495324786753869026439510687, Upper=2138295443425701128481087769031442971400259648242381107015561636719135, Oracle Response=False\n",
      "Iteration 151: Lower=2138295443425657625442302765447679396311808571783583930442294038114911, Upper=2138295443425701128481087769031442971400259648242381107015561636719135, Oracle Response=False\n",
      "Iteration 152: Lower=2138295443425679376961695267239561183856034110012982518728927837417023, Upper=2138295443425701128481087769031442971400259648242381107015561636719135, Oracle Response=False\n",
      "Iteration 153: Lower=2138295443425690252721391518135502077628146879127681812872244737068079, Upper=2138295443425701128481087769031442971400259648242381107015561636719135, Oracle Response=False\n",
      "Iteration 154: Lower=2138295443425695690601239643583472524514203263685031459943903186893607, Upper=2138295443425701128481087769031442971400259648242381107015561636719135, Oracle Response=False\n",
      "Iteration 155: Lower=2138295443425698409541163706307457747957231455963706283479732411806371, Upper=2138295443425701128481087769031442971400259648242381107015561636719135, Oracle Response=False\n",
      "Iteration 156: Lower=2138295443425699769011125737669450359678745552103043695247647024262753, Upper=2138295443425701128481087769031442971400259648242381107015561636719135, Oracle Response=False\n",
      "Iteration 157: Lower=2138295443425700448746106753350446665539502600172712401131604330490944, Upper=2138295443425701128481087769031442971400259648242381107015561636719135, Oracle Response=False\n",
      "Iteration 158: Lower=2138295443425700788613597261190944818469881124207546754073582983605039, Upper=2138295443425701128481087769031442971400259648242381107015561636719135, Oracle Response=True\n",
      "Iteration 159: Lower=2138295443425700788613597261190944818469881124207546754073582983605039, Upper=2138295443425700958547342515111193894935070386224963930544572310162087, Oracle Response=True\n",
      "Iteration 160: Lower=2138295443425700788613597261190944818469881124207546754073582983605039, Upper=2138295443425700873580469888151069356702475755216255342309077646883563, Oracle Response=False\n",
      "Iteration 161: Lower=2138295443425700831097033574671007087586178439711901048191330315244301, Upper=2138295443425700873580469888151069356702475755216255342309077646883563, Oracle Response=False\n",
      "Iteration 162: Lower=2138295443425700852338751731411038222144327097464078195250203981063932, Upper=2138295443425700873580469888151069356702475755216255342309077646883563, Oracle Response=True\n",
      "Iteration 163: Lower=2138295443425700852338751731411038222144327097464078195250203981063932, Upper=2138295443425700862959610809781053789423401426340166768779640813973747, Oracle Response=False\n",
      "Iteration 164: Lower=2138295443425700857649181270596046005783864261902122482014922397518839, Upper=2138295443425700862959610809781053789423401426340166768779640813973747, Oracle Response=False\n",
      "Iteration 165: Lower=2138295443425700860304396040188549897603632844121144625397281605746293, Upper=2138295443425700862959610809781053789423401426340166768779640813973747, Oracle Response=False\n",
      "Iteration 166: Lower=2138295443425700861632003424984801843513517135230655697088461209860020, Upper=2138295443425700862959610809781053789423401426340166768779640813973747, Oracle Response=True\n",
      "Iteration 167: Lower=2138295443425700861632003424984801843513517135230655697088461209860020, Upper=2138295443425700862295807117382927816468459280785411232934051011916883, Oracle Response=False\n",
      "Iteration 168: Lower=2138295443425700861963905271183864829990988208008033465011256110888451, Upper=2138295443425700862295807117382927816468459280785411232934051011916883, Oracle Response=True\n",
      "Iteration 169: Lower=2138295443425700861963905271183864829990988208008033465011256110888451, Upper=2138295443425700862129856194283396323229723744396722348972653561402667, Oracle Response=True\n",
      "Iteration 170: Lower=2138295443425700861963905271183864829990988208008033465011256110888451, Upper=2138295443425700862046880732733630576610355976202377906991954836145559, Oracle Response=False\n",
      "Iteration 171: Lower=2138295443425700862005393001958747703300672092105205686001605473517005, Upper=2138295443425700862046880732733630576610355976202377906991954836145559, Oracle Response=False\n",
      "Iteration 172: Lower=2138295443425700862026136867346189139955514034153791796496780154831282, Upper=2138295443425700862046880732733630576610355976202377906991954836145559, Oracle Response=False\n",
      "Iteration 173: Lower=2138295443425700862036508800039909858282935005178084851744367495488420, Upper=2138295443425700862046880732733630576610355976202377906991954836145559, Oracle Response=True\n",
      "Iteration 174: Lower=2138295443425700862036508800039909858282935005178084851744367495488420, Upper=2138295443425700862041694766386770217446645490690231379368161165816989, Oracle Response=False\n",
      "Iteration 175: Lower=2138295443425700862039101783213340037864790247934158115556264330652704, Upper=2138295443425700862041694766386770217446645490690231379368161165816989, Oracle Response=False\n",
      "Iteration 176: Lower=2138295443425700862040398274800055127655717869312194747462212748234846, Upper=2138295443425700862041694766386770217446645490690231379368161165816989, Oracle Response=False\n",
      "Iteration 177: Lower=2138295443425700862041046520593412672551181680001213063415186957025917, Upper=2138295443425700862041694766386770217446645490690231379368161165816989, Oracle Response=True\n",
      "Iteration 178: Lower=2138295443425700862041046520593412672551181680001213063415186957025917, Upper=2138295443425700862041370643490091444998913585345722221391674061421453, Oracle Response=True\n",
      "Iteration 179: Lower=2138295443425700862041046520593412672551181680001213063415186957025917, Upper=2138295443425700862041208582041752058775047632673467642403430509223685, Oracle Response=False\n",
      "Iteration 180: Lower=2138295443425700862041127551317582365663114656337340352909308733124801, Upper=2138295443425700862041208582041752058775047632673467642403430509223685, Oracle Response=True\n",
      "Iteration 181: Lower=2138295443425700862041127551317582365663114656337340352909308733124801, Upper=2138295443425700862041168066679667212219081144505403997656369621174243, Oracle Response=False\n",
      "Iteration 182: Lower=2138295443425700862041147808998624788941097900421372175282839177149522, Upper=2138295443425700862041168066679667212219081144505403997656369621174243, Oracle Response=True\n",
      "Iteration 183: Lower=2138295443425700862041147808998624788941097900421372175282839177149522, Upper=2138295443425700862041157937839146000580089522463388086469604399161882, Oracle Response=True\n",
      "Iteration 184: Lower=2138295443425700862041147808998624788941097900421372175282839177149522, Upper=2138295443425700862041152873418885394760593711442380130876221788155702, Oracle Response=False\n",
      "Iteration 185: Lower=2138295443425700862041150341208755091850845805931876153079530482652612, Upper=2138295443425700862041152873418885394760593711442380130876221788155702, Oracle Response=True\n",
      "Iteration 186: Lower=2138295443425700862041150341208755091850845805931876153079530482652612, Upper=2138295443425700862041151607313820243305719758687128141977876135404157, Oracle Response=True\n",
      "Iteration 187: Lower=2138295443425700862041150341208755091850845805931876153079530482652612, Upper=2138295443425700862041150974261287667578282782309502147528703309028384, Oracle Response=False\n",
      "Iteration 188: Lower=2138295443425700862041150657735021379714564294120689150304116895840498, Upper=2138295443425700862041150974261287667578282782309502147528703309028384, Oracle Response=True\n",
      "Iteration 189: Lower=2138295443425700862041150657735021379714564294120689150304116895840498, Upper=2138295443425700862041150815998154523646423538215095648916410102434441, Oracle Response=False\n",
      "Iteration 190: Lower=2138295443425700862041150736866587951680493916167892399610263499137469, Upper=2138295443425700862041150815998154523646423538215095648916410102434441, Oracle Response=False\n",
      "Iteration 191: Lower=2138295443425700862041150776432371237663458727191494024263336800785955, Upper=2138295443425700862041150815998154523646423538215095648916410102434441, Oracle Response=True\n",
      "Iteration 192: Lower=2138295443425700862041150776432371237663458727191494024263336800785955, Upper=2138295443425700862041150796215262880654941132703294836589873451610198, Oracle Response=True\n",
      "Iteration 193: Lower=2138295443425700862041150776432371237663458727191494024263336800785955, Upper=2138295443425700862041150786323817059159199929947394430426605126198076, Oracle Response=True\n",
      "Iteration 194: Lower=2138295443425700862041150776432371237663458727191494024263336800785955, Upper=2138295443425700862041150781378094148411329328569444227344970963492015, Oracle Response=True\n",
      "Iteration 195: Lower=2138295443425700862041150776432371237663458727191494024263336800785955, Upper=2138295443425700862041150778905232693037394027880469125804153882138985, Oracle Response=True\n",
      "Iteration 196: Lower=2138295443425700862041150776432371237663458727191494024263336800785955, Upper=2138295443425700862041150777668801965350426377535981575033745341462470, Oracle Response=True\n",
      "Iteration 197: Lower=2138295443425700862041150776432371237663458727191494024263336800785955, Upper=2138295443425700862041150777050586601506942552363737799648541071124212, Oracle Response=False\n",
      "Iteration 198: Lower=2138295443425700862041150776741478919585200639777615911955938935955083, Upper=2138295443425700862041150777050586601506942552363737799648541071124212, Oracle Response=False\n",
      "Iteration 199: Lower=2138295443425700862041150776896032760546071596070676855802240003539647, Upper=2138295443425700862041150777050586601506942552363737799648541071124212, Oracle Response=False\n",
      "Iteration 200: Lower=2138295443425700862041150776973309681026507074217207327725390537331929, Upper=2138295443425700862041150777050586601506942552363737799648541071124212, Oracle Response=True\n",
      "Iteration 201: Lower=2138295443425700862041150776973309681026507074217207327725390537331929, Upper=2138295443425700862041150777011948141266724813290472563686965804228070, Oracle Response=False\n",
      "Iteration 202: Lower=2138295443425700862041150776992628911146615943753839945706178170779999, Upper=2138295443425700862041150777011948141266724813290472563686965804228070, Oracle Response=False\n",
      "Iteration 203: Lower=2138295443425700862041150777002288526206670378522156254696571987504034, Upper=2138295443425700862041150777011948141266724813290472563686965804228070, Oracle Response=True\n",
      "Iteration 204: Lower=2138295443425700862041150777002288526206670378522156254696571987504034, Upper=2138295443425700862041150777007118333736697595906314409191768895866052, Oracle Response=True\n",
      "Iteration 205: Lower=2138295443425700862041150777002288526206670378522156254696571987504034, Upper=2138295443425700862041150777004703429971683987214235331944170441685043, Oracle Response=True\n",
      "Iteration 206: Lower=2138295443425700862041150777002288526206670378522156254696571987504034, Upper=2138295443425700862041150777003495978089177182868195793320371214594538, Oracle Response=True\n",
      "Iteration 207: Lower=2138295443425700862041150777002288526206670378522156254696571987504034, Upper=2138295443425700862041150777002892252147923780695176024008471601049286, Oracle Response=True\n",
      "Iteration 208: Lower=2138295443425700862041150777002288526206670378522156254696571987504034, Upper=2138295443425700862041150777002590389177297079608666139352521794276660, Oracle Response=False\n",
      "Iteration 209: Lower=2138295443425700862041150777002439457691983729065411197024546890890347, Upper=2138295443425700862041150777002590389177297079608666139352521794276660, Oracle Response=False\n",
      "Iteration 210: Lower=2138295443425700862041150777002514923434640404337038668188534342583503, Upper=2138295443425700862041150777002590389177297079608666139352521794276660, Oracle Response=False\n",
      "Iteration 211: Lower=2138295443425700862041150777002552656305968741972852403770528068430081, Upper=2138295443425700862041150777002590389177297079608666139352521794276660, Oracle Response=False\n",
      "Iteration 212: Lower=2138295443425700862041150777002571522741632910790759271561524931353370, Upper=2138295443425700862041150777002590389177297079608666139352521794276660, Oracle Response=True\n",
      "Iteration 213: Lower=2138295443425700862041150777002571522741632910790759271561524931353370, Upper=2138295443425700862041150777002580955959464995199712705457023362815015, Oracle Response=False\n",
      "Iteration 214: Lower=2138295443425700862041150777002576239350548952995235988509274147084192, Upper=2138295443425700862041150777002580955959464995199712705457023362815015, Oracle Response=False\n",
      "Iteration 215: Lower=2138295443425700862041150777002578597655006974097474346983148754949603, Upper=2138295443425700862041150777002580955959464995199712705457023362815015, Oracle Response=True\n",
      "Iteration 216: Lower=2138295443425700862041150777002578597655006974097474346983148754949603, Upper=2138295443425700862041150777002579776807235984648593526220086058882309, Oracle Response=True\n",
      "Iteration 217: Lower=2138295443425700862041150777002578597655006974097474346983148754949603, Upper=2138295443425700862041150777002579187231121479373033936601617406915956, Oracle Response=True\n",
      "Iteration 218: Lower=2138295443425700862041150777002578597655006974097474346983148754949603, Upper=2138295443425700862041150777002578892443064226735254141792383080932779, Oracle Response=False\n",
      "Iteration 219: Lower=2138295443425700862041150777002578745049035600416364244387765917941191, Upper=2138295443425700862041150777002578892443064226735254141792383080932779, Oracle Response=True\n",
      "Iteration 220: Lower=2138295443425700862041150777002578745049035600416364244387765917941191, Upper=2138295443425700862041150777002578818746049913575809193090074499436985, Oracle Response=True\n",
      "Iteration 221: Lower=2138295443425700862041150777002578745049035600416364244387765917941191, Upper=2138295443425700862041150777002578781897542756996086718738920208689088, Oracle Response=False\n",
      "Iteration 222: Lower=2138295443425700862041150777002578763473289178706225481563343063315139, Upper=2138295443425700862041150777002578781897542756996086718738920208689088, Oracle Response=False\n",
      "Iteration 223: Lower=2138295443425700862041150777002578772685415967851156100151131636002113, Upper=2138295443425700862041150777002578781897542756996086718738920208689088, Oracle Response=False\n",
      "Iteration 224: Lower=2138295443425700862041150777002578777291479362423621409445025922345600, Upper=2138295443425700862041150777002578781897542756996086718738920208689088, Oracle Response=False\n",
      "Iteration 225: Lower=2138295443425700862041150777002578779594511059709854064091973065517344, Upper=2138295443425700862041150777002578781897542756996086718738920208689088, Oracle Response=True\n",
      "Iteration 226: Lower=2138295443425700862041150777002578779594511059709854064091973065517344, Upper=2138295443425700862041150777002578780746026908352970391415446637103216, Oracle Response=True\n",
      "Iteration 227: Lower=2138295443425700862041150777002578779594511059709854064091973065517344, Upper=2138295443425700862041150777002578780170268984031412227753709851310280, Oracle Response=True\n",
      "Iteration 228: Lower=2138295443425700862041150777002578779594511059709854064091973065517344, Upper=2138295443425700862041150777002578779882390021870633145922841458413812, Oracle Response=True\n",
      "Iteration 229: Lower=2138295443425700862041150777002578779594511059709854064091973065517344, Upper=2138295443425700862041150777002578779738450540790243605007407261965578, Oracle Response=True\n",
      "Iteration 230: Lower=2138295443425700862041150777002578779594511059709854064091973065517344, Upper=2138295443425700862041150777002578779666480800250048834549690163741461, Oracle Response=False\n",
      "Iteration 231: Lower=2138295443425700862041150777002578779630495929979951449320831614629402, Upper=2138295443425700862041150777002578779666480800250048834549690163741461, Oracle Response=True\n",
      "Iteration 232: Lower=2138295443425700862041150777002578779630495929979951449320831614629402, Upper=2138295443425700862041150777002578779648488365115000141935260889185431, Oracle Response=False\n",
      "Iteration 233: Lower=2138295443425700862041150777002578779639492147547475795628046251907416, Upper=2138295443425700862041150777002578779648488365115000141935260889185431, Oracle Response=True\n",
      "Iteration 234: Lower=2138295443425700862041150777002578779639492147547475795628046251907416, Upper=2138295443425700862041150777002578779643990256331237968781653570546423, Oracle Response=True\n",
      "Iteration 235: Lower=2138295443425700862041150777002578779639492147547475795628046251907416, Upper=2138295443425700862041150777002578779641741201939356882204849911226919, Oracle Response=False\n",
      "Iteration 236: Lower=2138295443425700862041150777002578779640616674743416338916448081567167, Upper=2138295443425700862041150777002578779641741201939356882204849911226919, Oracle Response=True\n",
      "Iteration 237: Lower=2138295443425700862041150777002578779640616674743416338916448081567167, Upper=2138295443425700862041150777002578779641178938341386610560648996397043, Oracle Response=True\n",
      "Iteration 238: Lower=2138295443425700862041150777002578779640616674743416338916448081567167, Upper=2138295443425700862041150777002578779640897806542401474738548538982105, Oracle Response=False\n",
      "Iteration 239: Lower=2138295443425700862041150777002578779640757240642908906827498310274636, Upper=2138295443425700862041150777002578779640897806542401474738548538982105, Oracle Response=True\n",
      "Iteration 240: Lower=2138295443425700862041150777002578779640757240642908906827498310274636, Upper=2138295443425700862041150777002578779640827523592655190783023424628370, Oracle Response=False\n",
      "Iteration 241: Lower=2138295443425700862041150777002578779640792382117782048805260867451503, Upper=2138295443425700862041150777002578779640827523592655190783023424628370, Oracle Response=True\n",
      "Iteration 242: Lower=2138295443425700862041150777002578779640792382117782048805260867451503, Upper=2138295443425700862041150777002578779640809952855218619794142146039936, Oracle Response=True\n",
      "Iteration 243: Lower=2138295443425700862041150777002578779640792382117782048805260867451503, Upper=2138295443425700862041150777002578779640801167486500334299701506745719, Oracle Response=False\n",
      "Iteration 244: Lower=2138295443425700862041150777002578779640796774802141191552481187098611, Upper=2138295443425700862041150777002578779640801167486500334299701506745719, Oracle Response=True\n",
      "Iteration 245: Lower=2138295443425700862041150777002578779640796774802141191552481187098611, Upper=2138295443425700862041150777002578779640798971144320762926091346922165, Oracle Response=False\n",
      "Iteration 246: Lower=2138295443425700862041150777002578779640797872973230977239286267010388, Upper=2138295443425700862041150777002578779640798971144320762926091346922165, Oracle Response=False\n",
      "Iteration 247: Lower=2138295443425700862041150777002578779640798422058775870082688806966276, Upper=2138295443425700862041150777002578779640798971144320762926091346922165, Oracle Response=True\n",
      "Iteration 248: Lower=2138295443425700862041150777002578779640798422058775870082688806966276, Upper=2138295443425700862041150777002578779640798696601548316504390076944220, Oracle Response=False\n",
      "Iteration 249: Lower=2138295443425700862041150777002578779640798559330162093293539441955248, Upper=2138295443425700862041150777002578779640798696601548316504390076944220, Oracle Response=True\n",
      "Iteration 250: Lower=2138295443425700862041150777002578779640798559330162093293539441955248, Upper=2138295443425700862041150777002578779640798627965855204898964759449734, Oracle Response=True\n",
      "Iteration 251: Lower=2138295443425700862041150777002578779640798559330162093293539441955248, Upper=2138295443425700862041150777002578779640798593648008649096252100702491, Oracle Response=False\n",
      "Iteration 252: Lower=2138295443425700862041150777002578779640798576489085371194895771328869, Upper=2138295443425700862041150777002578779640798593648008649096252100702491, Oracle Response=True\n",
      "Iteration 253: Lower=2138295443425700862041150777002578779640798576489085371194895771328869, Upper=2138295443425700862041150777002578779640798585068547010145573936015680, Oracle Response=True\n",
      "Iteration 254: Lower=2138295443425700862041150777002578779640798576489085371194895771328869, Upper=2138295443425700862041150777002578779640798580778816190670234853672274, Oracle Response=True\n",
      "Iteration 255: Lower=2138295443425700862041150777002578779640798576489085371194895771328869, Upper=2138295443425700862041150777002578779640798578633950780932565312500571, Oracle Response=False\n",
      "Iteration 256: Lower=2138295443425700862041150777002578779640798577561518076063730541914720, Upper=2138295443425700862041150777002578779640798578633950780932565312500571, Oracle Response=True\n",
      "Iteration 257: Lower=2138295443425700862041150777002578779640798577561518076063730541914720, Upper=2138295443425700862041150777002578779640798578097734428498147927207645, Oracle Response=True\n",
      "Iteration 258: Lower=2138295443425700862041150777002578779640798577561518076063730541914720, Upper=2138295443425700862041150777002578779640798577829626252280939234561182, Oracle Response=True\n",
      "Iteration 259: Lower=2138295443425700862041150777002578779640798577561518076063730541914720, Upper=2138295443425700862041150777002578779640798577695572164172334888237951, Oracle Response=False\n",
      "Iteration 260: Lower=2138295443425700862041150777002578779640798577628545120118032715076335, Upper=2138295443425700862041150777002578779640798577695572164172334888237951, Oracle Response=True\n",
      "Iteration 261: Lower=2138295443425700862041150777002578779640798577628545120118032715076335, Upper=2138295443425700862041150777002578779640798577662058642145183801657143, Oracle Response=False\n",
      "Iteration 262: Lower=2138295443425700862041150777002578779640798577645301881131608258366739, Upper=2138295443425700862041150777002578779640798577662058642145183801657143, Oracle Response=False\n",
      "Iteration 263: Lower=2138295443425700862041150777002578779640798577653680261638396030011941, Upper=2138295443425700862041150777002578779640798577662058642145183801657143, Oracle Response=False\n",
      "Iteration 264: Lower=2138295443425700862041150777002578779640798577657869451891789915834542, Upper=2138295443425700862041150777002578779640798577662058642145183801657143, Oracle Response=True\n",
      "Iteration 265: Lower=2138295443425700862041150777002578779640798577657869451891789915834542, Upper=2138295443425700862041150777002578779640798577659964047018486858745842, Oracle Response=False\n",
      "Iteration 266: Lower=2138295443425700862041150777002578779640798577658916749455138387290192, Upper=2138295443425700862041150777002578779640798577659964047018486858745842, Oracle Response=False\n",
      "Iteration 267: Lower=2138295443425700862041150777002578779640798577659440398236812623018017, Upper=2138295443425700862041150777002578779640798577659964047018486858745842, Oracle Response=False\n",
      "Iteration 268: Lower=2138295443425700862041150777002578779640798577659702222627649740881929, Upper=2138295443425700862041150777002578779640798577659964047018486858745842, Oracle Response=True\n",
      "Iteration 269: Lower=2138295443425700862041150777002578779640798577659702222627649740881929, Upper=2138295443425700862041150777002578779640798577659833134823068299813885, Oracle Response=True\n",
      "Iteration 270: Lower=2138295443425700862041150777002578779640798577659702222627649740881929, Upper=2138295443425700862041150777002578779640798577659767678725359020347907, Oracle Response=True\n",
      "Iteration 271: Lower=2138295443425700862041150777002578779640798577659702222627649740881929, Upper=2138295443425700862041150777002578779640798577659734950676504380614918, Oracle Response=True\n",
      "Iteration 272: Lower=2138295443425700862041150777002578779640798577659702222627649740881929, Upper=2138295443425700862041150777002578779640798577659718586652077060748423, Oracle Response=False\n",
      "Iteration 273: Lower=2138295443425700862041150777002578779640798577659710404639863400815176, Upper=2138295443425700862041150777002578779640798577659718586652077060748423, Oracle Response=True\n",
      "Iteration 274: Lower=2138295443425700862041150777002578779640798577659710404639863400815176, Upper=2138295443425700862041150777002578779640798577659714495645970230781799, Oracle Response=False\n",
      "Iteration 275: Lower=2138295443425700862041150777002578779640798577659712450142916815798487, Upper=2138295443425700862041150777002578779640798577659714495645970230781799, Oracle Response=True\n",
      "Iteration 276: Lower=2138295443425700862041150777002578779640798577659712450142916815798487, Upper=2138295443425700862041150777002578779640798577659713472894443523290143, Oracle Response=True\n",
      "Iteration 277: Lower=2138295443425700862041150777002578779640798577659712450142916815798487, Upper=2138295443425700862041150777002578779640798577659712961518680169544315, Oracle Response=False\n",
      "Iteration 278: Lower=2138295443425700862041150777002578779640798577659712705830798492671401, Upper=2138295443425700862041150777002578779640798577659712961518680169544315, Oracle Response=False\n",
      "Iteration 279: Lower=2138295443425700862041150777002578779640798577659712833674739331107858, Upper=2138295443425700862041150777002578779640798577659712961518680169544315, Oracle Response=False\n",
      "Iteration 280: Lower=2138295443425700862041150777002578779640798577659712897596709750326086, Upper=2138295443425700862041150777002578779640798577659712961518680169544315, Oracle Response=True\n",
      "Iteration 281: Lower=2138295443425700862041150777002578779640798577659712897596709750326086, Upper=2138295443425700862041150777002578779640798577659712929557694959935200, Oracle Response=True\n",
      "Iteration 282: Lower=2138295443425700862041150777002578779640798577659712897596709750326086, Upper=2138295443425700862041150777002578779640798577659712913577202355130643, Oracle Response=False\n",
      "Iteration 283: Lower=2138295443425700862041150777002578779640798577659712905586956052728364, Upper=2138295443425700862041150777002578779640798577659712913577202355130643, Oracle Response=False\n",
      "Iteration 284: Lower=2138295443425700862041150777002578779640798577659712909582079203929503, Upper=2138295443425700862041150777002578779640798577659712913577202355130643, Oracle Response=False\n",
      "Iteration 285: Lower=2138295443425700862041150777002578779640798577659712911579640779530073, Upper=2138295443425700862041150777002578779640798577659712913577202355130643, Oracle Response=True\n",
      "Iteration 286: Lower=2138295443425700862041150777002578779640798577659712911579640779530073, Upper=2138295443425700862041150777002578779640798577659712912578421567330358, Oracle Response=False\n",
      "Iteration 287: Lower=2138295443425700862041150777002578779640798577659712912079031173430215, Upper=2138295443425700862041150777002578779640798577659712912578421567330358, Oracle Response=True\n",
      "Iteration 288: Lower=2138295443425700862041150777002578779640798577659712912079031173430215, Upper=2138295443425700862041150777002578779640798577659712912328726370380286, Oracle Response=True\n",
      "Iteration 289: Lower=2138295443425700862041150777002578779640798577659712912079031173430215, Upper=2138295443425700862041150777002578779640798577659712912203878771905250, Oracle Response=False\n",
      "Iteration 290: Lower=2138295443425700862041150777002578779640798577659712912141454972667732, Upper=2138295443425700862041150777002578779640798577659712912203878771905250, Oracle Response=False\n",
      "Iteration 291: Lower=2138295443425700862041150777002578779640798577659712912172666872286491, Upper=2138295443425700862041150777002578779640798577659712912203878771905250, Oracle Response=False\n",
      "Iteration 292: Lower=2138295443425700862041150777002578779640798577659712912188272822095870, Upper=2138295443425700862041150777002578779640798577659712912203878771905250, Oracle Response=True\n",
      "Iteration 293: Lower=2138295443425700862041150777002578779640798577659712912188272822095870, Upper=2138295443425700862041150777002578779640798577659712912196075797000560, Oracle Response=False\n",
      "Iteration 294: Lower=2138295443425700862041150777002578779640798577659712912192174309548215, Upper=2138295443425700862041150777002578779640798577659712912196075797000560, Oracle Response=True\n",
      "Iteration 295: Lower=2138295443425700862041150777002578779640798577659712912192174309548215, Upper=2138295443425700862041150777002578779640798577659712912194125053274387, Oracle Response=False\n",
      "Iteration 296: Lower=2138295443425700862041150777002578779640798577659712912193149681411301, Upper=2138295443425700862041150777002578779640798577659712912194125053274387, Oracle Response=False\n",
      "Iteration 297: Lower=2138295443425700862041150777002578779640798577659712912193637367342844, Upper=2138295443425700862041150777002578779640798577659712912194125053274387, Oracle Response=False\n",
      "Iteration 298: Lower=2138295443425700862041150777002578779640798577659712912193881210308615, Upper=2138295443425700862041150777002578779640798577659712912194125053274387, Oracle Response=False\n",
      "Iteration 299: Lower=2138295443425700862041150777002578779640798577659712912194003131791501, Upper=2138295443425700862041150777002578779640798577659712912194125053274387, Oracle Response=True\n",
      "Iteration 300: Lower=2138295443425700862041150777002578779640798577659712912194003131791501, Upper=2138295443425700862041150777002578779640798577659712912194064092532944, Oracle Response=False\n",
      "Iteration 301: Lower=2138295443425700862041150777002578779640798577659712912194033612162222, Upper=2138295443425700862041150777002578779640798577659712912194064092532944, Oracle Response=True\n",
      "Iteration 302: Lower=2138295443425700862041150777002578779640798577659712912194033612162222, Upper=2138295443425700862041150777002578779640798577659712912194048852347583, Oracle Response=True\n",
      "Iteration 303: Lower=2138295443425700862041150777002578779640798577659712912194033612162222, Upper=2138295443425700862041150777002578779640798577659712912194041232254902, Oracle Response=False\n",
      "Iteration 304: Lower=2138295443425700862041150777002578779640798577659712912194037422208562, Upper=2138295443425700862041150777002578779640798577659712912194041232254902, Oracle Response=False\n",
      "Iteration 305: Lower=2138295443425700862041150777002578779640798577659712912194039327231732, Upper=2138295443425700862041150777002578779640798577659712912194041232254902, Oracle Response=False\n",
      "Iteration 306: Lower=2138295443425700862041150777002578779640798577659712912194040279743317, Upper=2138295443425700862041150777002578779640798577659712912194041232254902, Oracle Response=True\n",
      "Iteration 307: Lower=2138295443425700862041150777002578779640798577659712912194040279743317, Upper=2138295443425700862041150777002578779640798577659712912194040755999109, Oracle Response=True\n",
      "Iteration 308: Lower=2138295443425700862041150777002578779640798577659712912194040279743317, Upper=2138295443425700862041150777002578779640798577659712912194040517871213, Oracle Response=False\n",
      "Iteration 309: Lower=2138295443425700862041150777002578779640798577659712912194040398807265, Upper=2138295443425700862041150777002578779640798577659712912194040517871213, Oracle Response=False\n",
      "Iteration 310: Lower=2138295443425700862041150777002578779640798577659712912194040458339239, Upper=2138295443425700862041150777002578779640798577659712912194040517871213, Oracle Response=True\n",
      "Iteration 311: Lower=2138295443425700862041150777002578779640798577659712912194040458339239, Upper=2138295443425700862041150777002578779640798577659712912194040488105226, Oracle Response=True\n",
      "Iteration 312: Lower=2138295443425700862041150777002578779640798577659712912194040458339239, Upper=2138295443425700862041150777002578779640798577659712912194040473222232, Oracle Response=False\n",
      "Iteration 313: Lower=2138295443425700862041150777002578779640798577659712912194040465780735, Upper=2138295443425700862041150777002578779640798577659712912194040473222232, Oracle Response=True\n",
      "Iteration 314: Lower=2138295443425700862041150777002578779640798577659712912194040465780735, Upper=2138295443425700862041150777002578779640798577659712912194040469501483, Oracle Response=False\n",
      "Iteration 315: Lower=2138295443425700862041150777002578779640798577659712912194040467641109, Upper=2138295443425700862041150777002578779640798577659712912194040469501483, Oracle Response=True\n",
      "Iteration 316: Lower=2138295443425700862041150777002578779640798577659712912194040467641109, Upper=2138295443425700862041150777002578779640798577659712912194040468571296, Oracle Response=True\n",
      "Iteration 317: Lower=2138295443425700862041150777002578779640798577659712912194040467641109, Upper=2138295443425700862041150777002578779640798577659712912194040468106202, Oracle Response=False\n",
      "Iteration 318: Lower=2138295443425700862041150777002578779640798577659712912194040467873655, Upper=2138295443425700862041150777002578779640798577659712912194040468106202, Oracle Response=False\n",
      "Iteration 319: Lower=2138295443425700862041150777002578779640798577659712912194040467989928, Upper=2138295443425700862041150777002578779640798577659712912194040468106202, Oracle Response=False\n",
      "Iteration 320: Lower=2138295443425700862041150777002578779640798577659712912194040468048065, Upper=2138295443425700862041150777002578779640798577659712912194040468106202, Oracle Response=False\n",
      "Iteration 321: Lower=2138295443425700862041150777002578779640798577659712912194040468077133, Upper=2138295443425700862041150777002578779640798577659712912194040468106202, Oracle Response=False\n",
      "Iteration 322: Lower=2138295443425700862041150777002578779640798577659712912194040468091667, Upper=2138295443425700862041150777002578779640798577659712912194040468106202, Oracle Response=False\n",
      "Iteration 323: Lower=2138295443425700862041150777002578779640798577659712912194040468098934, Upper=2138295443425700862041150777002578779640798577659712912194040468106202, Oracle Response=True\n",
      "Iteration 324: Lower=2138295443425700862041150777002578779640798577659712912194040468098934, Upper=2138295443425700862041150777002578779640798577659712912194040468102568, Oracle Response=False\n",
      "Iteration 325: Lower=2138295443425700862041150777002578779640798577659712912194040468100751, Upper=2138295443425700862041150777002578779640798577659712912194040468102568, Oracle Response=True\n",
      "Iteration 326: Lower=2138295443425700862041150777002578779640798577659712912194040468100751, Upper=2138295443425700862041150777002578779640798577659712912194040468101659, Oracle Response=False\n",
      "Iteration 327: Lower=2138295443425700862041150777002578779640798577659712912194040468101205, Upper=2138295443425700862041150777002578779640798577659712912194040468101659, Oracle Response=True\n",
      "Iteration 328: Lower=2138295443425700862041150777002578779640798577659712912194040468101205, Upper=2138295443425700862041150777002578779640798577659712912194040468101432, Oracle Response=False\n",
      "Iteration 329: Lower=2138295443425700862041150777002578779640798577659712912194040468101318, Upper=2138295443425700862041150777002578779640798577659712912194040468101432, Oracle Response=False\n",
      "Iteration 330: Lower=2138295443425700862041150777002578779640798577659712912194040468101375, Upper=2138295443425700862041150777002578779640798577659712912194040468101432, Oracle Response=True\n",
      "Iteration 331: Lower=2138295443425700862041150777002578779640798577659712912194040468101375, Upper=2138295443425700862041150777002578779640798577659712912194040468101403, Oracle Response=True\n",
      "Iteration 332: Lower=2138295443425700862041150777002578779640798577659712912194040468101375, Upper=2138295443425700862041150777002578779640798577659712912194040468101389, Oracle Response=True\n",
      "Iteration 333: Lower=2138295443425700862041150777002578779640798577659712912194040468101375, Upper=2138295443425700862041150777002578779640798577659712912194040468101382, Oracle Response=False\n",
      "Iteration 334: Lower=2138295443425700862041150777002578779640798577659712912194040468101378, Upper=2138295443425700862041150777002578779640798577659712912194040468101382, Oracle Response=False\n",
      "Iteration 335: Lower=2138295443425700862041150777002578779640798577659712912194040468101380, Upper=2138295443425700862041150777002578779640798577659712912194040468101382, Oracle Response=True\n",
      "Original message: OPTIMISM LEADS TO OPTIMALITY \n",
      "Recovered message: OPTIMISM LEADS TO OPTIMALITY\u0004\n"
     ]
    }
   ],
   "source": [
    "# Generate RSA parameters\n",
    "p = 225292488731544063850604968585030050664197308954243 \n",
    "q = 551191138960513821906192011035895724642016720587707\n",
    "# p and q are 2 random primes\n",
    "modulus = p * q\n",
    "public_key = 3\n",
    "private_key = mod_inverse(public_key, (p - 1) * (q - 1))\n",
    "\n",
    "# Define the plaintext and encrypt it\n",
    "message = \"OPTIMISM LEADS TO OPTIMALITY \"\n",
    "message_to_num = bytes_to_long(message.encode('utf-8'))\n",
    "ciphertext = pow(message_to_num, public_key, modulus)\n",
    "\n",
    "# Define the parity oracle\n",
    "def oracle(ciphertext):\n",
    "    decrypted = pow(ciphertext, private_key, modulus)\n",
    "    return decrypted % 2 == 0\n",
    "\n",
    "# Attempt to recover the plaintext using the parity oracle attack\n",
    "recovered_num = parity_oracle_attack(ciphertext, public_key, modulus, oracle)\n",
    "recovered_message = long_to_bytes(recovered_num).decode('utf-8')\n",
    "\n",
    "print(f\"Original message: {message}\")\n",
    "print(f\"Recovered message: {recovered_message}\")"
   ]
  }
 ],
 "metadata": {
  "kernelspec": {
   "display_name": "Python 3",
   "language": "python",
   "name": "python3"
  },
  "language_info": {
   "codemirror_mode": {
    "name": "ipython",
    "version": 3
   },
   "file_extension": ".py",
   "mimetype": "text/x-python",
   "name": "python",
   "nbconvert_exporter": "python",
   "pygments_lexer": "ipython3",
   "version": "3.12.0"
  }
 },
 "nbformat": 4,
 "nbformat_minor": 2
}
